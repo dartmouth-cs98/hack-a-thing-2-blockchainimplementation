{
 "cells": [
  {
   "cell_type": "code",
   "execution_count": 1,
   "metadata": {},
   "outputs": [
    {
     "name": "stdout",
     "output_type": "stream",
     "text": [
      "True\n",
      "False\n",
      "False\n",
      "True\n",
      "False\n"
     ]
    }
   ],
   "source": [
    "#Steven Kim, Arun Anand\n",
    "#Code adapted from the blockchain tutorial found on http://ecomunsing.com/build-your-own-blockchain?fbclid=IwAR0wwxa9kU_GXasSnotvGmbKuEqHqYdxHal6lHPUz0IoK1NktE0I99CTl7o\n",
    "import hashlib, json, sys\n",
    "import random\n",
    "\n",
    "\n",
    "#This is a helper function for the hashing algorithm\n",
    "def hashMe(msg=\"\"):\n",
    "    if type(msg)!=str:\n",
    "        msg = json.dumps(msg,sort_keys=True)  # Sorting the keys to guarantee repeatability\n",
    "        \n",
    "    if sys.version_info.major == 2:\n",
    "        return unicode(hashlib.sha256(msg).hexdigest(),'utf-8')\n",
    "    else:\n",
    "        return hashlib.sha256(str(msg).encode('utf-8')).hexdigest()\n",
    "\n",
    "    \n",
    "random.seed(0)\n",
    "#This function is used to create valid transactions of random sign between 1 and maxValue (3 in this case)\n",
    "def makeTransaction(maxValue=3):\n",
    "    sign      = int(random.getrandbits(1))*2 - 1   # This will randomly choose -1 or 1 for the sign\n",
    "    amount    = random.randint(1,maxValue)\n",
    "    alicePays = sign * amount\n",
    "    bobPays   = -1 * alicePays\n",
    "    return {u'Alice':alicePays,u'Bob':bobPays}\n",
    "\n",
    "\n",
    "#Testing the system by making 30 transactions\n",
    "txnBuffer = [makeTransaction() for i in range(30)]\n",
    "\n",
    "\n",
    "\n",
    "#takes in the transfer amount and the state \n",
    "#returns updated state\n",
    "def updateState(txn, state):\n",
    "    state = state.copy() \n",
    "    for key in txn:\n",
    "        if key in state.keys():\n",
    "            state[key] += txn[key]\n",
    "        else:\n",
    "            state[key] = txn[key]\n",
    "    return state\n",
    "\n",
    "\n",
    "#Set of rules for a valid transaction:\n",
    "#Withdrawals must equal deposits\n",
    "#Every withdrawal must be less than or equal to the balance\n",
    "def isValidTxn(txn,state):\n",
    "    if sum(txn.values()) is not 0:\n",
    "        return False\n",
    "    \n",
    "    for key in txn.keys():\n",
    "        if key in state.keys(): \n",
    "            acctBalance = state[key]\n",
    "        else:\n",
    "            acctBalance = 0\n",
    "        if (acctBalance + txn[key]) < 0:\n",
    "            return False\n",
    "    \n",
    "    return True\n",
    "\n",
    "\n",
    "def makeBlock(txns,chain):\n",
    "    parentBlock = chain[-1]\n",
    "    parentHash  = parentBlock[u'hash']\n",
    "    blockNumber = parentBlock[u'contents'][u'blockNumber'] + 1\n",
    "    txnCount    = len(txns)\n",
    "    blockContents = {u'blockNumber':blockNumber,u'parentHash':parentHash,\n",
    "                     u'txnCount':len(txns),'txns':txns}\n",
    "    blockHash = hashMe( blockContents )\n",
    "    block = {u'hash':blockHash,u'contents':blockContents}\n",
    "    \n",
    "    return block\n",
    "\n",
    "\n",
    "\n",
    "\n",
    "############## test cases ###########\n",
    "state = {u'Alice':5,u'Bob':5}\n",
    "\n",
    "print(isValidTxn({u'Alice': -3, u'Bob': 3},state))  # Basic transaction\n",
    "print(isValidTxn({u'Alice': -4, u'Bob': 3},state))  #Invalid case, deposits != withdrawals\n",
    "print(isValidTxn({u'Alice': -6, u'Bob': 6},state))  # Invalid test case, overdraft\n",
    "print(isValidTxn({u'Alice': -4, u'Bob': 2,'Mallory':2},state)) #Valid test case\n",
    "print(isValidTxn({u'Alice': -4, u'Bob': 3,'Mallory':2},state)) #Invalid test case, deposits != withdrawals \n",
    "\n",
    "#new testcases \n",
    "state = {u'Alice':50, u'Bob':50}\n",
    "genesisBlockTxns = [state]\n",
    "genesisBlockContents = {u'blockNumber':0,u'parentHash':None,u'txnCount':1,u'txns':genesisBlockTxns}\n",
    "genesisHash = hashMe( genesisBlockContents )\n",
    "genesisBlock = {u'hash':genesisHash,u'contents':genesisBlockContents}\n",
    "genesisBlockStr = json.dumps(genesisBlock, sort_keys=True)\n",
    "\n",
    "chain = [genesisBlock]\n",
    "\n",
    "\n",
    "\n",
    "blockSizeLimit = 5 #Defines number of transactions per block\n",
    "\n",
    "while len(txnBuffer) > 0:\n",
    "    bufferStartSize = len(txnBuffer)\n",
    "    \n",
    "    ## This block waits while the appropriate number of transactions are gathered to fill up a block.\n",
    "    txnList = []\n",
    "    while (len(txnBuffer) > 0) & (len(txnList) < blockSizeLimit):\n",
    "        newTxn = txnBuffer.pop()\n",
    "        validTxn = isValidTxn(newTxn,state) \n",
    "        \n",
    "        if validTxn:        \n",
    "            txnList.append(newTxn)\n",
    "            state = updateState(newTxn,state)\n",
    "        else:\n",
    "            print(\"ignored transaction\")\n",
    "            sys.stdout.flush()\n",
    "            continu\n",
    "    \n",
    "    myBlock = makeBlock(txnList,chain)\n",
    "    chain.append(myBlock)\n",
    "    \n",
    "\n",
    "\n",
    "\n",
    "\n"
   ]
  },
  {
   "cell_type": "code",
   "execution_count": 7,
   "metadata": {},
   "outputs": [
    {
     "data": {
      "text/plain": [
       "{'hash': '7c88a4312054f89a2b73b04989cd9b9e1ae437e1048f89fbb4e18a08479de507',\n",
       " 'contents': {'blockNumber': 0,\n",
       "  'parentHash': None,\n",
       "  'txnCount': 1,\n",
       "  'txns': [{'Alice': 50, 'Bob': 50}]}}"
      ]
     },
     "execution_count": 7,
     "metadata": {},
     "output_type": "execute_result"
    }
   ],
   "source": [
    "chain[0]"
   ]
  },
  {
   "cell_type": "code",
   "execution_count": 8,
   "metadata": {},
   "outputs": [
    {
     "data": {
      "text/plain": [
       "{'hash': '7a91fc8206c5351293fd11200b33b7192e87fad6545504068a51aba868bc6f72',\n",
       " 'contents': {'blockNumber': 1,\n",
       "  'parentHash': '7c88a4312054f89a2b73b04989cd9b9e1ae437e1048f89fbb4e18a08479de507',\n",
       "  'txnCount': 5,\n",
       "  'txns': [{'Alice': 3, 'Bob': -3},\n",
       "   {'Alice': -1, 'Bob': 1},\n",
       "   {'Alice': 3, 'Bob': -3},\n",
       "   {'Alice': -2, 'Bob': 2},\n",
       "   {'Alice': 3, 'Bob': -3}]}}"
      ]
     },
     "execution_count": 8,
     "metadata": {},
     "output_type": "execute_result"
    }
   ],
   "source": [
    "chain[1]"
   ]
  },
  {
   "cell_type": "code",
   "execution_count": 9,
   "metadata": {},
   "outputs": [
    {
     "data": {
      "text/plain": [
       "{'Alice': 72, 'Bob': 28}"
      ]
     },
     "execution_count": 9,
     "metadata": {},
     "output_type": "execute_result"
    }
   ],
   "source": [
    "state"
   ]
  },
  {
   "cell_type": "code",
   "execution_count": 11,
   "metadata": {},
   "outputs": [],
   "source": [
    "def checkBlockHash(block):\n",
    "    Compare the hash against the contents of the block and raise an exception in the case of a discrepancy.\n",
    "    expectedHash = hashMe( block['contents'] )\n",
    "    if block['hash']!=expectedHash:\n",
    "        raise Exception('Hash does not match contents of block %s'%\n",
    "                        block['contents']['blockNumber'])\n",
    "    return"
   ]
  },
  {
   "cell_type": "code",
   "execution_count": null,
   "metadata": {},
   "outputs": [],
   "source": [
    "def checkBlockValidity(block,parent,state):    \n",
    "    #Validate the blocks by making sure each transaction is valid, block hash is valid, block number = parent block +1, and contains valid reference to parent block hash.\n",
    "    parentNumber = parent['contents']['blockNumber']\n",
    "    parentHash   = parent['hash']\n",
    "    blockNumber  = block['contents']['blockNumber']\n",
    "    \n",
    "    #This code block checks to make sure all transactions within the block are valid.\n",
    "    for txn in block['contents']['txns']:\n",
    "        if isValidTxn(txn,state):\n",
    "            state = updateState(txn,state)\n",
    "        else:\n",
    "            raise Exception('Invalid transaction in block %s: %s'%(blockNumber,txn))\n",
    "\n",
    "    checkBlockHash(block) #Use helper function above to validate block hash against the content (cryptographic security)\n",
    "\n",
    "    if blockNumber!=(parentNumber+1):\n",
    "        raise Exception('Hash does not match contents of block %s'%blockNumber)\n",
    "\n",
    "    if block['contents']['parentHash'] != parentHash:\n",
    "        raise Exception('Parent hash not accurate at block %s'%blockNumber)\n",
    "    \n",
    "    return state"
   ]
  },
  {
   "cell_type": "code",
   "execution_count": 12,
   "metadata": {},
   "outputs": [],
   "source": [
    "def checkChain(chain):\n",
    "    # This function checks the chain of blocks to check for transaction vaidity, and agreement between each block and its hash.\n",
    "  \n",
    "    \n",
    "    if type(chain)==str:\n",
    "        try:\n",
    "            chain = json.loads(chain)\n",
    "            assert( type(chain)==list)\n",
    "        except:  # This is a catch-all, admittedly crude\n",
    "            return False\n",
    "    elif type(chain)!=list:\n",
    "        return False\n",
    "    \n",
    "    state = {} \n",
    "    \n",
    "    #Checking the genesis block (first block in the chain)\n",
    "    for txn in chain[0]['contents']['txns']:\n",
    "        state = updateState(txn,state)\n",
    "    checkBlockHash(chain[0])\n",
    "    parent = chain[0]\n",
    "    \n",
    "  #Routine to check all other blocks using the helper method above.\n",
    "    for block in chain[1:]:\n",
    "        state = checkBlockValidity(block,parent,state)\n",
    "        parent = block\n",
    "        \n",
    "    return state"
   ]
  },
  {
   "cell_type": "code",
   "execution_count": 13,
   "metadata": {},
   "outputs": [
    {
     "data": {
      "text/plain": [
       "{'Alice': 72, 'Bob': 28}"
      ]
     },
     "execution_count": 13,
     "metadata": {},
     "output_type": "execute_result"
    }
   ],
   "source": [
    "checkChain(chain)"
   ]
  },
  {
   "cell_type": "code",
   "execution_count": 14,
   "metadata": {},
   "outputs": [
    {
     "data": {
      "text/plain": [
       "{'Alice': 72, 'Bob': 28}"
      ]
     },
     "execution_count": 14,
     "metadata": {},
     "output_type": "execute_result"
    }
   ],
   "source": [
    "chainAsText = json.dumps(chain,sort_keys=True)\n",
    "checkChain(chainAsText)"
   ]
  },
  {
   "cell_type": "code",
   "execution_count": 15,
   "metadata": {},
   "outputs": [],
   "source": [
    "import copy\n",
    "nodeBchain = copy.copy(chain)\n",
    "nodeBtxns  = [makeTransaction() for i in range(5)]\n",
    "newBlock   = makeBlock(nodeBtxns,nodeBchain)"
   ]
  },
  {
   "cell_type": "code",
   "execution_count": 16,
   "metadata": {},
   "outputs": [
    {
     "name": "stdout",
     "output_type": "stream",
     "text": [
      "Blockchain on Node A is currently 7 blocks long\n",
      "New Block Received; checking validity...\n",
      "Blockchain on Node A is now 8 blocks long\n"
     ]
    }
   ],
   "source": [
    "print(\"Blockchain on Node A is currently %s blocks long\"%len(chain))\n",
    "\n",
    "try:\n",
    "    print(\"New Block Received; checking validity...\")\n",
    "    state = checkBlockValidity(newBlock,chain[-1],state) # Update the state- this will throw an error if the block is invalid!\n",
    "    chain.append(newBlock)\n",
    "except:\n",
    "    print(\"Invalid block; ignoring and waiting for the next block...\")\n",
    "\n",
    "print(\"Blockchain on Node A is now %s blocks long\"%len(chain))"
   ]
  }
 ],
 "metadata": {
  "kernelspec": {
   "display_name": "Python 3",
   "language": "python",
   "name": "python3"
  },
  "language_info": {
   "codemirror_mode": {
    "name": "ipython",
    "version": 3
   },
   "file_extension": ".py",
   "mimetype": "text/x-python",
   "name": "python",
   "nbconvert_exporter": "python",
   "pygments_lexer": "ipython3",
   "version": "3.7.2"
  }
 },
 "nbformat": 4,
 "nbformat_minor": 2
}
